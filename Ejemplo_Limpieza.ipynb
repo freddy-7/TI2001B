{
 "cells": [
  {
   "cell_type": "code",
   "execution_count": 2,
   "metadata": {},
   "outputs": [],
   "source": [
    "#Importamos las librerias pandas, numpy y matplotlib respectivamente\n",
    "import pandas as pd\n",
    "import numpy as np\n",
    "import matplotlib.pyplot as plt"
   ]
  },
  {
   "cell_type": "code",
   "execution_count": 3,
   "metadata": {},
   "outputs": [],
   "source": [
    "#Carga desde un archivo .xlsx sin indice\n",
    "data = pd.read_excel('inmuebles2.xlsx')"
   ]
  },
  {
   "cell_type": "code",
   "execution_count": 4,
   "metadata": {},
   "outputs": [],
   "source": [
    "#Convertir DataFrame a CSV\n",
    "data.to_csv(\"inmuebles2.csv\")"
   ]
  },
  {
   "cell_type": "code",
   "execution_count": null,
   "metadata": {},
   "outputs": [],
   "source": [
    "#Carga desde un archivo .csv sin indice\n",
    "data= pd.read_csv('inmuebles2.csv') \n",
    "data"
   ]
  },
  {
   "cell_type": "code",
   "execution_count": null,
   "metadata": {},
   "outputs": [],
   "source": [
    "#Eliminar primera fila o filas innecesarias\n",
    "data1= pd.read_csv('inmuebles2.csv', skiprows=1, low_memory=False)\n",
    "data1"
   ]
  },
  {
   "cell_type": "code",
   "execution_count": null,
   "metadata": {},
   "outputs": [],
   "source": [
    "#Eliminar columnas innecesarias\n",
    "data2= data1.drop(['0','Referencia'], axis=1)\n",
    "data2"
   ]
  },
  {
   "cell_type": "code",
   "execution_count": 33,
   "metadata": {},
   "outputs": [
    {
     "data": {
      "text/plain": [
       "Fecha Alta        2\n",
       "Tipo              2\n",
       "Operación         1\n",
       "Provincia         4\n",
       "Superficie        4\n",
       "Precio Venta      6\n",
       "Fecha Venta     578\n",
       "Vendedor        578\n",
       "dtype: int64"
      ]
     },
     "execution_count": 33,
     "metadata": {},
     "output_type": "execute_result"
    }
   ],
   "source": [
    "#Identificar valores nulos\n",
    "valores_nulos=data2.isnull().sum()\n",
    "valores_nulos"
   ]
  },
  {
   "cell_type": "code",
   "execution_count": 47,
   "metadata": {},
   "outputs": [],
   "source": [
    "#Realizamos una copia del dataframe\n",
    "data3=data2.copy()"
   ]
  },
  {
   "cell_type": "code",
   "execution_count": null,
   "metadata": {},
   "outputs": [],
   "source": [
    "#Sustituir valores nulos con promedio o media\n",
    "data3[\"Superficie\"]=data3[\"Superficie\"].fillna(round(data2[\"Superficie\"].mean(),1))\n",
    "data3"
   ]
  },
  {
   "cell_type": "code",
   "execution_count": null,
   "metadata": {},
   "outputs": [],
   "source": [
    "#Corroboramos valores nulos\n",
    "valores_nulos=data3.isnull().sum()\n",
    "valores_nulos"
   ]
  },
  {
   "cell_type": "code",
   "execution_count": null,
   "metadata": {},
   "outputs": [],
   "source": [
    "#Sustituir valores nulos con mediana\n",
    "data3[\"Precio Venta\"]=data3[\"Precio Venta\"].fillna(round(data2[\"Precio Venta\"].median(),1))\n",
    "data3"
   ]
  },
  {
   "cell_type": "code",
   "execution_count": null,
   "metadata": {},
   "outputs": [],
   "source": [
    "#Corroboramos valores nulos\n",
    "valores_nulos=data3.isnull().sum()\n",
    "valores_nulos"
   ]
  },
  {
   "cell_type": "code",
   "execution_count": 16,
   "metadata": {},
   "outputs": [
    {
     "name": "stderr",
     "output_type": "stream",
     "text": [
      "C:\\Users\\alfre\\AppData\\Local\\Temp\\ipykernel_10044\\1929231857.py:2: FutureWarning: In a future version of pandas all arguments of DataFrame.dropna will be keyword-only.\n",
      "  data4= data3.dropna(1)\n"
     ]
    },
    {
     "data": {
      "text/html": [
       "<div>\n",
       "<style scoped>\n",
       "    .dataframe tbody tr th:only-of-type {\n",
       "        vertical-align: middle;\n",
       "    }\n",
       "\n",
       "    .dataframe tbody tr th {\n",
       "        vertical-align: top;\n",
       "    }\n",
       "\n",
       "    .dataframe thead th {\n",
       "        text-align: right;\n",
       "    }\n",
       "</style>\n",
       "<table border=\"1\" class=\"dataframe\">\n",
       "  <thead>\n",
       "    <tr style=\"text-align: right;\">\n",
       "      <th></th>\n",
       "      <th>Superficie</th>\n",
       "      <th>Precio Venta</th>\n",
       "    </tr>\n",
       "  </thead>\n",
       "  <tbody>\n",
       "    <tr>\n",
       "      <th>0</th>\n",
       "      <td>291.0</td>\n",
       "      <td>2133903.0</td>\n",
       "    </tr>\n",
       "    <tr>\n",
       "      <th>1</th>\n",
       "      <td>185.0</td>\n",
       "      <td>1945424.0</td>\n",
       "    </tr>\n",
       "    <tr>\n",
       "      <th>2</th>\n",
       "      <td>82.0</td>\n",
       "      <td>1121906.0</td>\n",
       "    </tr>\n",
       "    <tr>\n",
       "      <th>3</th>\n",
       "      <td>285.0</td>\n",
       "      <td>1121906.0</td>\n",
       "    </tr>\n",
       "    <tr>\n",
       "      <th>4</th>\n",
       "      <td>152.0</td>\n",
       "      <td>185000.0</td>\n",
       "    </tr>\n",
       "    <tr>\n",
       "      <th>...</th>\n",
       "      <td>...</td>\n",
       "      <td>...</td>\n",
       "    </tr>\n",
       "    <tr>\n",
       "      <th>3332</th>\n",
       "      <td>221.0</td>\n",
       "      <td>1450644.0</td>\n",
       "    </tr>\n",
       "    <tr>\n",
       "      <th>3333</th>\n",
       "      <td>55.0</td>\n",
       "      <td>454080.0</td>\n",
       "    </tr>\n",
       "    <tr>\n",
       "      <th>3334</th>\n",
       "      <td>78.0</td>\n",
       "      <td>740688.0</td>\n",
       "    </tr>\n",
       "    <tr>\n",
       "      <th>3335</th>\n",
       "      <td>88.0</td>\n",
       "      <td>397408.0</td>\n",
       "    </tr>\n",
       "    <tr>\n",
       "      <th>3336</th>\n",
       "      <td>170.2</td>\n",
       "      <td>2140712.0</td>\n",
       "    </tr>\n",
       "  </tbody>\n",
       "</table>\n",
       "<p>3337 rows × 2 columns</p>\n",
       "</div>"
      ],
      "text/plain": [
       "      Superficie  Precio Venta\n",
       "0          291.0     2133903.0\n",
       "1          185.0     1945424.0\n",
       "2           82.0     1121906.0\n",
       "3          285.0     1121906.0\n",
       "4          152.0      185000.0\n",
       "...          ...           ...\n",
       "3332       221.0     1450644.0\n",
       "3333        55.0      454080.0\n",
       "3334        78.0      740688.0\n",
       "3335        88.0      397408.0\n",
       "3336       170.2     2140712.0\n",
       "\n",
       "[3337 rows x 2 columns]"
      ]
     },
     "execution_count": 16,
     "metadata": {},
     "output_type": "execute_result"
    }
   ],
   "source": [
    "#Eliminamos filas con nulos\n",
    "data4= data3.dropna(1)\n",
    "data4"
   ]
  },
  {
   "cell_type": "code",
   "execution_count": 21,
   "metadata": {},
   "outputs": [
    {
     "data": {
      "text/plain": [
       "Fecha Alta        2\n",
       "Tipo              2\n",
       "Operación         1\n",
       "Provincia         4\n",
       "Superficie        4\n",
       "Precio Venta      6\n",
       "Fecha Venta     578\n",
       "Vendedor        578\n",
       "dtype: int64"
      ]
     },
     "execution_count": 21,
     "metadata": {},
     "output_type": "execute_result"
    }
   ],
   "source": [
    "#Corroboramos valores nulos\n",
    "valores_nulos=data4.isnull().sum()\n",
    "valores_nulos"
   ]
  },
  {
   "cell_type": "code",
   "execution_count": null,
   "metadata": {},
   "outputs": [],
   "source": [
    "#Sustituir valores nulos por un valor numérico en  concreto \n",
    "#Filtro por columnas\n",
    "#Actividad_total=data4.iloc[ : , [6]]\n",
    "data2[\"Fecha Alta\"]= data2[\"Superficie\"].fillna(4) \n",
    "\n"
   ]
  },
  {
   "cell_type": "code",
   "execution_count": null,
   "metadata": {},
   "outputs": [],
   "source": [
    "#Sustituir valores nulos por un string en  concreto \n",
    "#Filtro por columnas\n",
    "data2[\"Fecha Alta\"] =data2[\"Fecha Alta\"].fillna(\"10 de ago en 14:14\") \n",
    "data2"
   ]
  },
  {
   "cell_type": "code",
   "execution_count": null,
   "metadata": {},
   "outputs": [],
   "source": [
    "#Corroboramos valores nulos\n",
    "valores_nulos=data2.isnull().sum()\n",
    "valores_nulos"
   ]
  },
  {
   "cell_type": "code",
   "execution_count": null,
   "metadata": {},
   "outputs": [],
   "source": [
    "#Sustituir valores nulos por valores no nulos hacia adelante  \"forward fill\" (\"ffill\")\n",
    "#Filtro por columnas\n",
    "data2[\"Fecha Alta\"] =data2[\"Fecha Alta\"].fillna(method=\"ffill\") \n",
    "data2"
   ]
  },
  {
   "cell_type": "code",
   "execution_count": null,
   "metadata": {},
   "outputs": [],
   "source": [
    "#Sustituir valores nulos por valores no nulos hacia atrás backward fill\" (\"bfill\")\n",
    "#Filtro por columnas\n",
    "data2[\"Fecha Alta\"] =data2[\"Fecha Alta\"].fillna(method=\"bfill\") \n",
    "data2"
   ]
  },
  {
   "cell_type": "code",
   "execution_count": 36,
   "metadata": {},
   "outputs": [
    {
     "data": {
      "text/plain": [
       "0"
      ]
     },
     "execution_count": 36,
     "metadata": {},
     "output_type": "execute_result"
    }
   ],
   "source": [
    "#Obtenemos la cuenta de los elementos nulos del dataframe completo\n",
    "Cuenta_Total_Nulos= data4.isnull().sum().sum()\n",
    "Cuenta_Total_Nulos\n"
   ]
  },
  {
   "cell_type": "code",
   "execution_count": null,
   "metadata": {},
   "outputs": [],
   "source": [
    "#Realizamos histograma de variables cuantitativas\n",
    "plt.hist(x=data4[\"Superficie\"], color='blue', rwidth=0.50)\n",
    "plt.title('Histograma de Superficies')\n",
    "plt.xlabel('Superficies')\n",
    "plt.ylabel('Frecuencia')\n",
    "\n",
    "plt.show() #dibujamos el histograma"
   ]
  },
  {
   "cell_type": "code",
   "execution_count": 29,
   "metadata": {},
   "outputs": [],
   "source": [
    "# Apilar los __DataFrames__ uno encima del otro\n",
    "vertical_concat = pd.concat([data2, data], axis=0)\n",
    "\n",
    "\n",
    "# Coloque los __DataFrames__ de lado a lado\n",
    "horizontal_concat = pd.concat([data2, fecha], axis=1)\n"
   ]
  }
 ],
 "metadata": {
  "kernelspec": {
   "display_name": "Python 3.10.6 64-bit",
   "language": "python",
   "name": "python3"
  },
  "language_info": {
   "codemirror_mode": {
    "name": "ipython",
    "version": 3
   },
   "file_extension": ".py",
   "mimetype": "text/x-python",
   "name": "python",
   "nbconvert_exporter": "python",
   "pygments_lexer": "ipython3",
   "version": "3.10.6"
  },
  "orig_nbformat": 4,
  "vscode": {
   "interpreter": {
    "hash": "3eb06009a151591584a8e64b076b6e8b9584003a8eff826d2bd74c5ffbf9e972"
   }
  }
 },
 "nbformat": 4,
 "nbformat_minor": 2
}
